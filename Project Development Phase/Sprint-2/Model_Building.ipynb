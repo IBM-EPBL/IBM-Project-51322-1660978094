{
 "cells": [
  {
   "cell_type": "markdown",
   "metadata": {
    "id": "eV7YAWcxrq11"
   },
   "source": [
    "# Importing the libraries"
   ]
  },
  {
   "cell_type": "code",
   "execution_count": 1,
   "metadata": {
    "id": "ITNF46e1revm"
   },
   "outputs": [],
   "source": [
    "import pandas as pd\n",
    "import numpy as np\n",
    "from sklearn.preprocessing import MinMaxScaler\n",
    "from sklearn.metrics import confusion_matrix,accuracy_score"
   ]
  },
  {
   "cell_type": "markdown",
   "metadata": {
    "id": "L0mfFG_Or2oL"
   },
   "source": [
    "# Reading the dataset"
   ]
  },
  {
   "cell_type": "code",
   "execution_count": 3,
   "metadata": {
    "id": "q-ibVkA2rrFd"
   },
   "outputs": [],
   "source": [
    "ds=pd.read_csv(\"dataset_website.csv\")"
   ]
  },
  {
   "cell_type": "code",
   "execution_count": 4,
   "metadata": {
    "colab": {
     "base_uri": "https://localhost:8080/",
     "height": 300
    },
    "id": "Rk-Jdzf0rrQC",
    "outputId": "e2f3a35c-bd14-4a40-891a-0746dba16467"
   },
   "outputs": [
    {
     "data": {
      "text/html": [
       "<div>\n",
       "<style scoped>\n",
       "    .dataframe tbody tr th:only-of-type {\n",
       "        vertical-align: middle;\n",
       "    }\n",
       "\n",
       "    .dataframe tbody tr th {\n",
       "        vertical-align: top;\n",
       "    }\n",
       "\n",
       "    .dataframe thead th {\n",
       "        text-align: right;\n",
       "    }\n",
       "</style>\n",
       "<table border=\"1\" class=\"dataframe\">\n",
       "  <thead>\n",
       "    <tr style=\"text-align: right;\">\n",
       "      <th></th>\n",
       "      <th>index</th>\n",
       "      <th>having_IPhaving_IP_Address</th>\n",
       "      <th>URLURL_Length</th>\n",
       "      <th>Shortining_Service</th>\n",
       "      <th>having_At_Symbol</th>\n",
       "      <th>double_slash_redirecting</th>\n",
       "      <th>Prefix_Suffix</th>\n",
       "      <th>having_Sub_Domain</th>\n",
       "      <th>SSLfinal_State</th>\n",
       "      <th>Domain_registeration_length</th>\n",
       "      <th>...</th>\n",
       "      <th>popUpWidnow</th>\n",
       "      <th>Iframe</th>\n",
       "      <th>age_of_domain</th>\n",
       "      <th>DNSRecord</th>\n",
       "      <th>web_traffic</th>\n",
       "      <th>Page_Rank</th>\n",
       "      <th>Google_Index</th>\n",
       "      <th>Links_pointing_to_page</th>\n",
       "      <th>Statistical_report</th>\n",
       "      <th>Result</th>\n",
       "    </tr>\n",
       "  </thead>\n",
       "  <tbody>\n",
       "    <tr>\n",
       "      <th>0</th>\n",
       "      <td>1</td>\n",
       "      <td>-1</td>\n",
       "      <td>1</td>\n",
       "      <td>1</td>\n",
       "      <td>1</td>\n",
       "      <td>-1</td>\n",
       "      <td>-1</td>\n",
       "      <td>-1</td>\n",
       "      <td>-1</td>\n",
       "      <td>-1</td>\n",
       "      <td>...</td>\n",
       "      <td>1</td>\n",
       "      <td>1</td>\n",
       "      <td>-1</td>\n",
       "      <td>-1</td>\n",
       "      <td>-1</td>\n",
       "      <td>-1</td>\n",
       "      <td>1</td>\n",
       "      <td>1</td>\n",
       "      <td>-1</td>\n",
       "      <td>-1</td>\n",
       "    </tr>\n",
       "    <tr>\n",
       "      <th>1</th>\n",
       "      <td>2</td>\n",
       "      <td>1</td>\n",
       "      <td>1</td>\n",
       "      <td>1</td>\n",
       "      <td>1</td>\n",
       "      <td>1</td>\n",
       "      <td>-1</td>\n",
       "      <td>0</td>\n",
       "      <td>1</td>\n",
       "      <td>-1</td>\n",
       "      <td>...</td>\n",
       "      <td>1</td>\n",
       "      <td>1</td>\n",
       "      <td>-1</td>\n",
       "      <td>-1</td>\n",
       "      <td>0</td>\n",
       "      <td>-1</td>\n",
       "      <td>1</td>\n",
       "      <td>1</td>\n",
       "      <td>1</td>\n",
       "      <td>-1</td>\n",
       "    </tr>\n",
       "    <tr>\n",
       "      <th>2</th>\n",
       "      <td>3</td>\n",
       "      <td>1</td>\n",
       "      <td>0</td>\n",
       "      <td>1</td>\n",
       "      <td>1</td>\n",
       "      <td>1</td>\n",
       "      <td>-1</td>\n",
       "      <td>-1</td>\n",
       "      <td>-1</td>\n",
       "      <td>-1</td>\n",
       "      <td>...</td>\n",
       "      <td>1</td>\n",
       "      <td>1</td>\n",
       "      <td>1</td>\n",
       "      <td>-1</td>\n",
       "      <td>1</td>\n",
       "      <td>-1</td>\n",
       "      <td>1</td>\n",
       "      <td>0</td>\n",
       "      <td>-1</td>\n",
       "      <td>-1</td>\n",
       "    </tr>\n",
       "    <tr>\n",
       "      <th>3</th>\n",
       "      <td>4</td>\n",
       "      <td>1</td>\n",
       "      <td>0</td>\n",
       "      <td>1</td>\n",
       "      <td>1</td>\n",
       "      <td>1</td>\n",
       "      <td>-1</td>\n",
       "      <td>-1</td>\n",
       "      <td>-1</td>\n",
       "      <td>1</td>\n",
       "      <td>...</td>\n",
       "      <td>1</td>\n",
       "      <td>1</td>\n",
       "      <td>-1</td>\n",
       "      <td>-1</td>\n",
       "      <td>1</td>\n",
       "      <td>-1</td>\n",
       "      <td>1</td>\n",
       "      <td>-1</td>\n",
       "      <td>1</td>\n",
       "      <td>-1</td>\n",
       "    </tr>\n",
       "    <tr>\n",
       "      <th>4</th>\n",
       "      <td>5</td>\n",
       "      <td>1</td>\n",
       "      <td>0</td>\n",
       "      <td>-1</td>\n",
       "      <td>1</td>\n",
       "      <td>1</td>\n",
       "      <td>-1</td>\n",
       "      <td>1</td>\n",
       "      <td>1</td>\n",
       "      <td>-1</td>\n",
       "      <td>...</td>\n",
       "      <td>-1</td>\n",
       "      <td>1</td>\n",
       "      <td>-1</td>\n",
       "      <td>-1</td>\n",
       "      <td>0</td>\n",
       "      <td>-1</td>\n",
       "      <td>1</td>\n",
       "      <td>1</td>\n",
       "      <td>1</td>\n",
       "      <td>1</td>\n",
       "    </tr>\n",
       "  </tbody>\n",
       "</table>\n",
       "<p>5 rows × 32 columns</p>\n",
       "</div>"
      ],
      "text/plain": [
       "   index  having_IPhaving_IP_Address  URLURL_Length  Shortining_Service  \\\n",
       "0      1                          -1              1                   1   \n",
       "1      2                           1              1                   1   \n",
       "2      3                           1              0                   1   \n",
       "3      4                           1              0                   1   \n",
       "4      5                           1              0                  -1   \n",
       "\n",
       "   having_At_Symbol  double_slash_redirecting  Prefix_Suffix  \\\n",
       "0                 1                        -1             -1   \n",
       "1                 1                         1             -1   \n",
       "2                 1                         1             -1   \n",
       "3                 1                         1             -1   \n",
       "4                 1                         1             -1   \n",
       "\n",
       "   having_Sub_Domain  SSLfinal_State  Domain_registeration_length  ...  \\\n",
       "0                 -1              -1                           -1  ...   \n",
       "1                  0               1                           -1  ...   \n",
       "2                 -1              -1                           -1  ...   \n",
       "3                 -1              -1                            1  ...   \n",
       "4                  1               1                           -1  ...   \n",
       "\n",
       "   popUpWidnow  Iframe  age_of_domain  DNSRecord  web_traffic  Page_Rank  \\\n",
       "0            1       1             -1         -1           -1         -1   \n",
       "1            1       1             -1         -1            0         -1   \n",
       "2            1       1              1         -1            1         -1   \n",
       "3            1       1             -1         -1            1         -1   \n",
       "4           -1       1             -1         -1            0         -1   \n",
       "\n",
       "   Google_Index  Links_pointing_to_page  Statistical_report  Result  \n",
       "0             1                       1                  -1      -1  \n",
       "1             1                       1                   1      -1  \n",
       "2             1                       0                  -1      -1  \n",
       "3             1                      -1                   1      -1  \n",
       "4             1                       1                   1       1  \n",
       "\n",
       "[5 rows x 32 columns]"
      ]
     },
     "execution_count": 4,
     "metadata": {},
     "output_type": "execute_result"
    }
   ],
   "source": [
    "ds.head()"
   ]
  },
  {
   "cell_type": "markdown",
   "metadata": {
    "id": "9W2uRdO3qqrw"
   },
   "source": [
    "#Checking for Null values in a dataset and handling if any"
   ]
  },
  {
   "cell_type": "code",
   "execution_count": null,
   "metadata": {
    "colab": {
     "base_uri": "https://localhost:8080/"
    },
    "id": "4XB-tdIwqrA6",
    "outputId": "52e84e2c-c89c-4e12-c611-36ad60e7db0a"
   },
   "outputs": [
    {
     "name": "stdout",
     "output_type": "stream",
     "text": [
      "<class 'pandas.core.frame.DataFrame'>\n",
      "RangeIndex: 11055 entries, 0 to 11054\n",
      "Data columns (total 32 columns):\n",
      " #   Column                       Non-Null Count  Dtype\n",
      "---  ------                       --------------  -----\n",
      " 0   index                        11055 non-null  int64\n",
      " 1   having_IPhaving_IP_Address   11055 non-null  int64\n",
      " 2   URLURL_Length                11055 non-null  int64\n",
      " 3   Shortining_Service           11055 non-null  int64\n",
      " 4   having_At_Symbol             11055 non-null  int64\n",
      " 5   double_slash_redirecting     11055 non-null  int64\n",
      " 6   Prefix_Suffix                11055 non-null  int64\n",
      " 7   having_Sub_Domain            11055 non-null  int64\n",
      " 8   SSLfinal_State               11055 non-null  int64\n",
      " 9   Domain_registeration_length  11055 non-null  int64\n",
      " 10  Favicon                      11055 non-null  int64\n",
      " 11  port                         11055 non-null  int64\n",
      " 12  HTTPS_token                  11055 non-null  int64\n",
      " 13  Request_URL                  11055 non-null  int64\n",
      " 14  URL_of_Anchor                11055 non-null  int64\n",
      " 15  Links_in_tags                11055 non-null  int64\n",
      " 16  SFH                          11055 non-null  int64\n",
      " 17  Submitting_to_email          11055 non-null  int64\n",
      " 18  Abnormal_URL                 11055 non-null  int64\n",
      " 19  Redirect                     11055 non-null  int64\n",
      " 20  on_mouseover                 11055 non-null  int64\n",
      " 21  RightClick                   11055 non-null  int64\n",
      " 22  popUpWidnow                  11055 non-null  int64\n",
      " 23  Iframe                       11055 non-null  int64\n",
      " 24  age_of_domain                11055 non-null  int64\n",
      " 25  DNSRecord                    11055 non-null  int64\n",
      " 26  web_traffic                  11055 non-null  int64\n",
      " 27  Page_Rank                    11055 non-null  int64\n",
      " 28  Google_Index                 11055 non-null  int64\n",
      " 29  Links_pointing_to_page       11055 non-null  int64\n",
      " 30  Statistical_report           11055 non-null  int64\n",
      " 31  Result                       11055 non-null  int64\n",
      "dtypes: int64(32)\n",
      "memory usage: 2.7 MB\n"
     ]
    },
    {
     "data": {
      "text/plain": [
       "index                          False\n",
       "having_IPhaving_IP_Address     False\n",
       "URLURL_Length                  False\n",
       "Shortining_Service             False\n",
       "having_At_Symbol               False\n",
       "double_slash_redirecting       False\n",
       "Prefix_Suffix                  False\n",
       "having_Sub_Domain              False\n",
       "SSLfinal_State                 False\n",
       "Domain_registeration_length    False\n",
       "Favicon                        False\n",
       "port                           False\n",
       "HTTPS_token                    False\n",
       "Request_URL                    False\n",
       "URL_of_Anchor                  False\n",
       "Links_in_tags                  False\n",
       "SFH                            False\n",
       "Submitting_to_email            False\n",
       "Abnormal_URL                   False\n",
       "Redirect                       False\n",
       "on_mouseover                   False\n",
       "RightClick                     False\n",
       "popUpWidnow                    False\n",
       "Iframe                         False\n",
       "age_of_domain                  False\n",
       "DNSRecord                      False\n",
       "web_traffic                    False\n",
       "Page_Rank                      False\n",
       "Google_Index                   False\n",
       "Links_pointing_to_page         False\n",
       "Statistical_report             False\n",
       "Result                         False\n",
       "dtype: bool"
      ]
     },
     "execution_count": 87,
     "metadata": {},
     "output_type": "execute_result"
    }
   ],
   "source": [
    "ds.info()\n",
    "ds.isnull().any()"
   ]
  },
  {
   "cell_type": "markdown",
   "metadata": {
    "id": "1WSWi5TZqrD_"
   },
   "source": [
    "# Splitting data into independent and dependent variables"
   ]
  },
  {
   "cell_type": "markdown",
   "metadata": {
    "id": "32HYUqvxqrTU"
   },
   "source": [
    "# Identifying Independent & dependent variables:"
   ]
  },
  {
   "cell_type": "code",
   "execution_count": 5,
   "metadata": {
    "colab": {
     "base_uri": "https://localhost:8080/"
    },
    "id": "uZETHJgprBOk",
    "outputId": "1ef61db6-8fd8-4aba-f3a2-ef01d144cbf4"
   },
   "outputs": [
    {
     "name": "stdout",
     "output_type": "stream",
     "text": [
      "[[-1  1  1 ...  1  1 -1]\n",
      " [ 1  1  1 ...  1  1  1]\n",
      " [ 1  0  1 ...  1  0 -1]\n",
      " ...\n",
      " [ 1 -1  1 ...  1  0  1]\n",
      " [-1 -1  1 ...  1  1  1]\n",
      " [-1 -1  1 ... -1  1 -1]] [-1 -1 -1 ... -1 -1 -1]\n"
     ]
    }
   ],
   "source": [
    "x = ds.iloc[:,1:31].values\n",
    "y = ds.iloc[:,-1].values\n",
    "print(x,y)"
   ]
  },
  {
   "cell_type": "markdown",
   "metadata": {
    "id": "iKrrmXUMtiCL"
   },
   "source": [
    "# Splitting the data"
   ]
  },
  {
   "cell_type": "code",
   "execution_count": 6,
   "metadata": {
    "id": "qc4r6oSLrrTb"
   },
   "outputs": [],
   "source": [
    "from sklearn.model_selection import train_test_split"
   ]
  },
  {
   "cell_type": "code",
   "execution_count": 7,
   "metadata": {
    "colab": {
     "base_uri": "https://localhost:8080/"
    },
    "id": "Zw4FxOwOt-A4",
    "outputId": "94112342-5802-47fc-dcb4-a54d67e3e357"
   },
   "outputs": [
    {
     "data": {
      "text/plain": [
       "array([ 1, -1,  1,  1,  1,  1, -1,  1, -1,  1,  1,  1,  1,  0, -1, -1,  1,\n",
       "        1,  0,  1,  1,  1,  1,  1, -1,  1,  1,  1,  1,  1], dtype=int64)"
      ]
     },
     "execution_count": 7,
     "metadata": {},
     "output_type": "execute_result"
    }
   ],
   "source": [
    "x_train,x_test,y_train,y_test = train_test_split(x,y,test_size = 0.2,random_state=0)\n",
    "x_train[0]"
   ]
  },
  {
   "cell_type": "code",
   "execution_count": 8,
   "metadata": {
    "colab": {
     "base_uri": "https://localhost:8080/"
    },
    "id": "cmxmb9cAvyYC",
    "outputId": "63e9bbd7-eeb5-4966-efcd-b5e43447e7b8"
   },
   "outputs": [
    {
     "data": {
      "text/plain": [
       "array([ 1, -1, -1, -1,  1,  1,  1, -1,  1,  1], dtype=int64)"
      ]
     },
     "execution_count": 8,
     "metadata": {},
     "output_type": "execute_result"
    }
   ],
   "source": [
    "y_train[0:10]"
   ]
  },
  {
   "cell_type": "code",
   "execution_count": 9,
   "metadata": {
    "colab": {
     "base_uri": "https://localhost:8080/"
    },
    "id": "tghoTqdGwWtB",
    "outputId": "b1d264f3-3503-42e9-a1be-65a1dfc51bea"
   },
   "outputs": [
    {
     "data": {
      "text/plain": [
       "array([[ 1, -1,  1,  1,  1, -1, -1,  1,  1, -1,  1,  1, -1, -1,  0, -1,\n",
       "         1,  1,  0,  1,  1, -1,  1, -1, -1, -1, -1,  1,  0,  1],\n",
       "       [ 1, -1,  1,  1,  1, -1,  0, -1, -1,  1,  1,  1,  1, -1,  0, -1,\n",
       "         1,  1,  0,  1,  1,  1,  1, -1,  1, -1, -1,  1,  0,  1],\n",
       "       [ 1, -1,  1,  1,  1, -1,  0,  1, -1,  1,  1,  1,  1,  0, -1, -1,\n",
       "         1,  1,  0,  1,  1,  1,  1,  1, -1,  1, -1,  1,  1,  1],\n",
       "       [ 1, -1,  1,  1,  1, -1,  0, -1, -1,  1,  1,  1, -1,  0, -1, -1,\n",
       "         1,  1,  1,  1,  1,  1,  1, -1,  1,  1, -1,  1,  0,  1],\n",
       "       [ 1, -1,  1,  1,  1, -1,  0,  1, -1,  1,  1,  1,  1,  0, -1, -1,\n",
       "         1,  1,  0,  1,  1,  1,  1, -1, -1,  1, -1,  1, -1,  1],\n",
       "       [ 1, -1,  1,  1,  1,  1, -1,  1, -1, -1, -1,  1, -1,  1, -1, -1,\n",
       "        -1,  1,  0,  1,  1, -1,  1,  1,  1,  1, -1,  1,  0, -1],\n",
       "       [ 1,  1, -1,  1,  1,  1, -1,  1, -1,  1,  1, -1,  1,  0,  1,  1,\n",
       "         1,  1,  0,  1,  1,  1,  1,  1,  1,  1, -1,  1, -1,  1],\n",
       "       [ 1, -1,  1, -1,  1, -1, -1, -1,  1,  1,  1,  1, -1, -1,  0, -1,\n",
       "         1,  1,  0,  1,  1,  1,  1, -1,  1, -1, -1,  1,  0,  1],\n",
       "       [-1, -1,  1,  1,  1, -1, -1,  0,  1,  1,  1,  1, -1, -1, -1, -1,\n",
       "         1,  1,  0,  1,  1,  1,  1,  1,  1,  0, -1,  1,  1,  1],\n",
       "       [ 1, -1,  1,  1,  1,  1, -1,  1, -1,  1,  1,  1,  1,  0,  0, -1,\n",
       "         1,  1,  0,  1,  1,  1,  1,  1,  1,  1,  1,  1,  1,  1]],\n",
       "      dtype=int64)"
      ]
     },
     "execution_count": 9,
     "metadata": {},
     "output_type": "execute_result"
    }
   ],
   "source": [
    "x_test[0:10]"
   ]
  },
  {
   "cell_type": "code",
   "execution_count": 10,
   "metadata": {
    "colab": {
     "base_uri": "https://localhost:8080/"
    },
    "id": "TGRAcVt0wqSn",
    "outputId": "5b841e21-3666-45b0-813a-fd424149edb2"
   },
   "outputs": [
    {
     "data": {
      "text/plain": [
       "array([-1, -1, -1, -1,  1,  1,  1, -1, -1,  1], dtype=int64)"
      ]
     },
     "execution_count": 10,
     "metadata": {},
     "output_type": "execute_result"
    }
   ],
   "source": [
    "y_test[0:10]"
   ]
  },
  {
   "cell_type": "code",
   "execution_count": null,
   "metadata": {
    "colab": {
     "base_uri": "https://localhost:8080/"
    },
    "id": "_Ti4nDFEJbGN",
    "outputId": "114d36cb-7c5d-467e-b5f5-e2b1ab9e044f"
   },
   "outputs": [
    {
     "data": {
      "text/plain": [
       "(11055, 32)"
      ]
     },
     "execution_count": 94,
     "metadata": {},
     "output_type": "execute_result"
    }
   ],
   "source": [
    "ds.shape"
   ]
  },
  {
   "cell_type": "code",
   "execution_count": null,
   "metadata": {
    "id": "rCii8CZcJxOB"
   },
   "outputs": [],
   "source": [
    "a=len(ds[ds.Result==0])\n",
    "b=len(ds[ds.Result==-1])\n",
    "c=len(ds[ds.Result==1])"
   ]
  },
  {
   "cell_type": "code",
   "execution_count": null,
   "metadata": {
    "colab": {
     "base_uri": "https://localhost:8080/"
    },
    "id": "-BKJJAjbJ9Ro",
    "outputId": "628176dd-719d-4212-a0da-b68ae73219e8"
   },
   "outputs": [
    {
     "name": "stdout",
     "output_type": "stream",
     "text": [
      "Count of Legitimate Websites =  4898\n",
      "Count of Suspicious Websites =  0\n",
      "Count of Phishy Websites =  6157\n"
     ]
    }
   ],
   "source": [
    "print(\"Count of Legitimate Websites = \", b)\n",
    "print(\"Count of Suspicious Websites = \", a)\n",
    "print(\"Count of Phishy Websites = \", c)"
   ]
  },
  {
   "cell_type": "code",
   "execution_count": null,
   "metadata": {
    "colab": {
     "base_uri": "https://localhost:8080/"
    },
    "id": "JQwumei2Ki7Z",
    "outputId": "d2af4c62-4a15-49dc-be1a-99b7da940dec"
   },
   "outputs": [
    {
     "name": "stdout",
     "output_type": "stream",
     "text": [
      "Training set has 8844 samples.\n",
      "Testing set has 2211 samples.\n"
     ]
    }
   ],
   "source": [
    "print(\"Training set has {} samples.\".format(x_train.shape[0]))\n",
    "print(\"Testing set has {} samples.\".format(x_test.shape[0]))"
   ]
  },
  {
   "cell_type": "markdown",
   "metadata": {
    "id": "FuH2F9adKThd"
   },
   "source": [
    "# Lets apply Logistic Regression and check its accuracy"
   ]
  },
  {
   "cell_type": "code",
   "execution_count": 11,
   "metadata": {
    "id": "LLu-7b8xA_Us"
   },
   "outputs": [],
   "source": [
    "from sklearn.linear_model import LogisticRegression\n",
    "from sklearn.metrics import accuracy_score,confusion_matrix,classification_report"
   ]
  },
  {
   "cell_type": "code",
   "execution_count": 12,
   "metadata": {
    "colab": {
     "base_uri": "https://localhost:8080/"
    },
    "id": "Elhxdi43CVZX",
    "outputId": "ff282d7e-d3d5-4df1-d38d-1bbb67af9bc7"
   },
   "outputs": [
    {
     "data": {
      "text/html": [
       "<style>#sk-container-id-1 {color: black;background-color: white;}#sk-container-id-1 pre{padding: 0;}#sk-container-id-1 div.sk-toggleable {background-color: white;}#sk-container-id-1 label.sk-toggleable__label {cursor: pointer;display: block;width: 100%;margin-bottom: 0;padding: 0.3em;box-sizing: border-box;text-align: center;}#sk-container-id-1 label.sk-toggleable__label-arrow:before {content: \"▸\";float: left;margin-right: 0.25em;color: #696969;}#sk-container-id-1 label.sk-toggleable__label-arrow:hover:before {color: black;}#sk-container-id-1 div.sk-estimator:hover label.sk-toggleable__label-arrow:before {color: black;}#sk-container-id-1 div.sk-toggleable__content {max-height: 0;max-width: 0;overflow: hidden;text-align: left;background-color: #f0f8ff;}#sk-container-id-1 div.sk-toggleable__content pre {margin: 0.2em;color: black;border-radius: 0.25em;background-color: #f0f8ff;}#sk-container-id-1 input.sk-toggleable__control:checked~div.sk-toggleable__content {max-height: 200px;max-width: 100%;overflow: auto;}#sk-container-id-1 input.sk-toggleable__control:checked~label.sk-toggleable__label-arrow:before {content: \"▾\";}#sk-container-id-1 div.sk-estimator input.sk-toggleable__control:checked~label.sk-toggleable__label {background-color: #d4ebff;}#sk-container-id-1 div.sk-label input.sk-toggleable__control:checked~label.sk-toggleable__label {background-color: #d4ebff;}#sk-container-id-1 input.sk-hidden--visually {border: 0;clip: rect(1px 1px 1px 1px);clip: rect(1px, 1px, 1px, 1px);height: 1px;margin: -1px;overflow: hidden;padding: 0;position: absolute;width: 1px;}#sk-container-id-1 div.sk-estimator {font-family: monospace;background-color: #f0f8ff;border: 1px dotted black;border-radius: 0.25em;box-sizing: border-box;margin-bottom: 0.5em;}#sk-container-id-1 div.sk-estimator:hover {background-color: #d4ebff;}#sk-container-id-1 div.sk-parallel-item::after {content: \"\";width: 100%;border-bottom: 1px solid gray;flex-grow: 1;}#sk-container-id-1 div.sk-label:hover label.sk-toggleable__label {background-color: #d4ebff;}#sk-container-id-1 div.sk-serial::before {content: \"\";position: absolute;border-left: 1px solid gray;box-sizing: border-box;top: 0;bottom: 0;left: 50%;z-index: 0;}#sk-container-id-1 div.sk-serial {display: flex;flex-direction: column;align-items: center;background-color: white;padding-right: 0.2em;padding-left: 0.2em;position: relative;}#sk-container-id-1 div.sk-item {position: relative;z-index: 1;}#sk-container-id-1 div.sk-parallel {display: flex;align-items: stretch;justify-content: center;background-color: white;position: relative;}#sk-container-id-1 div.sk-item::before, #sk-container-id-1 div.sk-parallel-item::before {content: \"\";position: absolute;border-left: 1px solid gray;box-sizing: border-box;top: 0;bottom: 0;left: 50%;z-index: -1;}#sk-container-id-1 div.sk-parallel-item {display: flex;flex-direction: column;z-index: 1;position: relative;background-color: white;}#sk-container-id-1 div.sk-parallel-item:first-child::after {align-self: flex-end;width: 50%;}#sk-container-id-1 div.sk-parallel-item:last-child::after {align-self: flex-start;width: 50%;}#sk-container-id-1 div.sk-parallel-item:only-child::after {width: 0;}#sk-container-id-1 div.sk-dashed-wrapped {border: 1px dashed gray;margin: 0 0.4em 0.5em 0.4em;box-sizing: border-box;padding-bottom: 0.4em;background-color: white;}#sk-container-id-1 div.sk-label label {font-family: monospace;font-weight: bold;display: inline-block;line-height: 1.2em;}#sk-container-id-1 div.sk-label-container {text-align: center;}#sk-container-id-1 div.sk-container {/* jupyter's `normalize.less` sets `[hidden] { display: none; }` but bootstrap.min.css set `[hidden] { display: none !important; }` so we also need the `!important` here to be able to override the default hidden behavior on the sphinx rendered scikit-learn.org. See: https://github.com/scikit-learn/scikit-learn/issues/21755 */display: inline-block !important;position: relative;}#sk-container-id-1 div.sk-text-repr-fallback {display: none;}</style><div id=\"sk-container-id-1\" class=\"sk-top-container\"><div class=\"sk-text-repr-fallback\"><pre>LogisticRegression()</pre><b>In a Jupyter environment, please rerun this cell to show the HTML representation or trust the notebook. <br />On GitHub, the HTML representation is unable to render, please try loading this page with nbviewer.org.</b></div><div class=\"sk-container\" hidden><div class=\"sk-item\"><div class=\"sk-estimator sk-toggleable\"><input class=\"sk-toggleable__control sk-hidden--visually\" id=\"sk-estimator-id-1\" type=\"checkbox\" checked><label for=\"sk-estimator-id-1\" class=\"sk-toggleable__label sk-toggleable__label-arrow\">LogisticRegression</label><div class=\"sk-toggleable__content\"><pre>LogisticRegression()</pre></div></div></div></div></div>"
      ],
      "text/plain": [
       "LogisticRegression()"
      ]
     },
     "execution_count": 12,
     "metadata": {},
     "output_type": "execute_result"
    }
   ],
   "source": [
    "lr = LogisticRegression()\n",
    "lr.fit(x_train,y_train)"
   ]
  },
  {
   "cell_type": "code",
   "execution_count": 13,
   "metadata": {
    "id": "Qfx99W9lMD1N"
   },
   "outputs": [],
   "source": [
    "lr_predict= lr.predict(x_test)"
   ]
  },
  {
   "cell_type": "code",
   "execution_count": 14,
   "metadata": {
    "colab": {
     "base_uri": "https://localhost:8080/"
    },
    "id": "JVOFoKa0MUnJ",
    "outputId": "8093a051-f97f-4278-9f10-49c7df90d852"
   },
   "outputs": [
    {
     "name": "stdout",
     "output_type": "stream",
     "text": [
      "The accurcy of Logistic Regression Model is :  91.67797376752601\n"
     ]
    }
   ],
   "source": [
    "print('The accurcy of Logistic Regression Model is : ', 100.0 * accuracy_score(lr_predict,y_test))"
   ]
  },
  {
   "cell_type": "code",
   "execution_count": 15,
   "metadata": {
    "colab": {
     "base_uri": "https://localhost:8080/"
    },
    "id": "1lIXnbI0Mq8h",
    "outputId": "7b61c37e-5785-42e0-e297-440f199e0902"
   },
   "outputs": [
    {
     "name": "stdout",
     "output_type": "stream",
     "text": [
      "              precision    recall  f1-score   support\n",
      "\n",
      "          -1       0.89      0.92      0.91       980\n",
      "           1       0.94      0.91      0.92      1231\n",
      "\n",
      "    accuracy                           0.92      2211\n",
      "   macro avg       0.91      0.92      0.92      2211\n",
      "weighted avg       0.92      0.92      0.92      2211\n",
      "\n"
     ]
    }
   ],
   "source": [
    "print(classification_report(lr_predict,y_test))"
   ]
  },
  {
   "cell_type": "code",
   "execution_count": 16,
   "metadata": {
    "id": "7msHnbgMN0dV"
   },
   "outputs": [
    {
     "ename": "ModuleNotFoundError",
     "evalue": "No module named 'seaborn'",
     "output_type": "error",
     "traceback": [
      "\u001b[1;31m---------------------------------------------------------------------------\u001b[0m",
      "\u001b[1;31mModuleNotFoundError\u001b[0m                       Traceback (most recent call last)",
      "Cell \u001b[1;32mIn [16], line 1\u001b[0m\n\u001b[1;32m----> 1\u001b[0m \u001b[38;5;28;01mimport\u001b[39;00m \u001b[38;5;21;01mseaborn\u001b[39;00m \u001b[38;5;28;01mas\u001b[39;00m \u001b[38;5;21;01msns\u001b[39;00m\n\u001b[0;32m      2\u001b[0m \u001b[38;5;28;01mimport\u001b[39;00m \u001b[38;5;21;01mmatplotlib\u001b[39;00m\u001b[38;5;21;01m.\u001b[39;00m\u001b[38;5;21;01mpyplot\u001b[39;00m \u001b[38;5;28;01mas\u001b[39;00m \u001b[38;5;21;01mplt\u001b[39;00m\n\u001b[0;32m      3\u001b[0m \u001b[38;5;28;01mimport\u001b[39;00m \u001b[38;5;21;01mrandom\u001b[39;00m\n",
      "\u001b[1;31mModuleNotFoundError\u001b[0m: No module named 'seaborn'"
     ]
    }
   ],
   "source": [
    "import seaborn as sns\n",
    "import matplotlib.pyplot as plt\n",
    "import random"
   ]
  },
  {
   "cell_type": "code",
   "execution_count": null,
   "metadata": {
    "id": "qNc9iJzSNBmq"
   },
   "outputs": [],
   "source": [
    "def plot_confusion_matrix(y_test, lr_predict):\n",
    " C = confusion_matrix(y_test, lr_predict)\n",
    " A =(((C.T)/(C.sum(axis=1))).T)\n",
    " B =(C/C.sum(axis=0))\n",
    " plt.figure(figsize=(20,4))\n",
    " labels = [1,2]\n",
    " cmap=sns.light_palette(\"blue\")\n",
    " plt.subplot(1, 3, 1)\n",
    " sns.heatmap(C, annot=True, cmap=cmap, fmt=\".3f\", xticklabels=labels, yticklabels=labels)\n",
    " plt.xlabel('Predicted Class')\n",
    " plt.ylabel('Original Class')\n",
    " plt.title(\"Confusion matrix\")\n",
    " plt.subplot(1, 3, 2)\n",
    " sns.heatmap(B, annot=True, cmap=cmap, fmt=\".3f\", xticklabels=labels, yticklabels=labels)\n",
    " plt.xlabel('Predicted Class')\n",
    " plt.ylabel('Original Class')\n",
    " plt.title(\"Precision matrix\")\n",
    " plt.subplot(1, 3, 3)\n",
    " sns.heatmap(A, annot=True, cmap=cmap, fmt=\".3f\", xticklabels=labels, yticklabels=labels)\n",
    " plt.xlabel('Predicted Class')\n",
    " plt.ylabel('Original Class')\n",
    " plt.title(\"Recall matrix\")\n",
    " plt.show()"
   ]
  },
  {
   "cell_type": "code",
   "execution_count": 17,
   "metadata": {
    "colab": {
     "base_uri": "https://localhost:8080/",
     "height": 295
    },
    "id": "do5LPnI5NZHG",
    "outputId": "3389537f-76ba-4362-a873-d53aa92ba1ce"
   },
   "outputs": [
    {
     "ename": "NameError",
     "evalue": "name 'plot_confusion_matrix' is not defined",
     "output_type": "error",
     "traceback": [
      "\u001b[1;31m---------------------------------------------------------------------------\u001b[0m",
      "\u001b[1;31mNameError\u001b[0m                                 Traceback (most recent call last)",
      "Cell \u001b[1;32mIn [17], line 1\u001b[0m\n\u001b[1;32m----> 1\u001b[0m \u001b[43mplot_confusion_matrix\u001b[49m(y_test, lr_predict)\n",
      "\u001b[1;31mNameError\u001b[0m: name 'plot_confusion_matrix' is not defined"
     ]
    }
   ],
   "source": [
    "plot_confusion_matrix(y_test, lr_predict)"
   ]
  },
  {
   "cell_type": "code",
   "execution_count": 18,
   "metadata": {
    "id": "lTMBzdy-N_QH"
   },
   "outputs": [],
   "source": [
    "from sklearn.metrics import precision_recall_curve\n",
    "from sklearn.metrics import plot_precision_recall_curve\n",
    "from sklearn.metrics import roc_curve\n",
    "from sklearn.metrics import plot_roc_curve"
   ]
  },
  {
   "cell_type": "code",
   "execution_count": 19,
   "metadata": {
    "colab": {
     "base_uri": "https://localhost:8080/",
     "height": 351
    },
    "id": "R615K8AKArdw",
    "outputId": "6f6ab9c5-6324-4133-caec-6e84679086b0"
   },
   "outputs": [
    {
     "name": "stderr",
     "output_type": "stream",
     "text": [
      "C:\\Users\\jeyasri\\AppData\\Roaming\\Python\\Python311\\site-packages\\sklearn\\utils\\deprecation.py:87: FutureWarning: Function plot_roc_curve is deprecated; Function :func:`plot_roc_curve` is deprecated in 1.0 and will be removed in 1.2. Use one of the class methods: :meth:`sklearn.metrics.RocCurveDisplay.from_predictions` or :meth:`sklearn.metrics.RocCurveDisplay.from_estimator`.\n",
      "  warnings.warn(msg, category=FutureWarning)\n"
     ]
    },
    {
     "data": {
      "text/plain": [
       "<sklearn.metrics._plot.roc_curve.RocCurveDisplay at 0x2a343631690>"
      ]
     },
     "execution_count": 19,
     "metadata": {},
     "output_type": "execute_result"
    },
    {
     "data": {
      "image/png": "[encoded data removed]",
      "text/plain": [
       "<Figure size 640x480 with 1 Axes>"
      ]
     },
     "metadata": {},
     "output_type": "display_data"
    }
   ],
   "source": [
    "plot_roc_curve(lr,x_test, y_test)"
   ]
  },
  {
   "cell_type": "code",
   "execution_count": 20,
   "metadata": {
    "id": "11Y5dPwTBULU"
   },
   "outputs": [],
   "source": [
    "import pickle\n",
    "pickle.dump(lr,open('Phishing_website.pk1','wb'))"
   ]
  },
  {
   "cell_type": "markdown",
   "metadata": {
    "id": "Vdo-0B-jDb8t"
   },
   "source": [
    "# Decision Tree Classifier and check its classifier "
   ]
  },
  {
   "cell_type": "code",
   "execution_count": 21,
   "metadata": {
    "id": "KMLTx8QJRCdL"
   },
   "outputs": [],
   "source": [
    "from sklearn.tree import DecisionTreeClassifier"
   ]
  },
  {
   "cell_type": "code",
   "execution_count": 22,
   "metadata": {
    "colab": {
     "base_uri": "https://localhost:8080/"
    },
    "id": "jOOX638MQxnO",
    "outputId": "45d82c0d-7410-4654-ccd0-5f54f0c25945"
   },
   "outputs": [
    {
     "data": {
      "text/html": [
       "<style>#sk-container-id-2 {color: black;background-color: white;}#sk-container-id-2 pre{padding: 0;}#sk-container-id-2 div.sk-toggleable {background-color: white;}#sk-container-id-2 label.sk-toggleable__label {cursor: pointer;display: block;width: 100%;margin-bottom: 0;padding: 0.3em;box-sizing: border-box;text-align: center;}#sk-container-id-2 label.sk-toggleable__label-arrow:before {content: \"▸\";float: left;margin-right: 0.25em;color: #696969;}#sk-container-id-2 label.sk-toggleable__label-arrow:hover:before {color: black;}#sk-container-id-2 div.sk-estimator:hover label.sk-toggleable__label-arrow:before {color: black;}#sk-container-id-2 div.sk-toggleable__content {max-height: 0;max-width: 0;overflow: hidden;text-align: left;background-color: #f0f8ff;}#sk-container-id-2 div.sk-toggleable__content pre {margin: 0.2em;color: black;border-radius: 0.25em;background-color: #f0f8ff;}#sk-container-id-2 input.sk-toggleable__control:checked~div.sk-toggleable__content {max-height: 200px;max-width: 100%;overflow: auto;}#sk-container-id-2 input.sk-toggleable__control:checked~label.sk-toggleable__label-arrow:before {content: \"▾\";}#sk-container-id-2 div.sk-estimator input.sk-toggleable__control:checked~label.sk-toggleable__label {background-color: #d4ebff;}#sk-container-id-2 div.sk-label input.sk-toggleable__control:checked~label.sk-toggleable__label {background-color: #d4ebff;}#sk-container-id-2 input.sk-hidden--visually {border: 0;clip: rect(1px 1px 1px 1px);clip: rect(1px, 1px, 1px, 1px);height: 1px;margin: -1px;overflow: hidden;padding: 0;position: absolute;width: 1px;}#sk-container-id-2 div.sk-estimator {font-family: monospace;background-color: #f0f8ff;border: 1px dotted black;border-radius: 0.25em;box-sizing: border-box;margin-bottom: 0.5em;}#sk-container-id-2 div.sk-estimator:hover {background-color: #d4ebff;}#sk-container-id-2 div.sk-parallel-item::after {content: \"\";width: 100%;border-bottom: 1px solid gray;flex-grow: 1;}#sk-container-id-2 div.sk-label:hover label.sk-toggleable__label {background-color: #d4ebff;}#sk-container-id-2 div.sk-serial::before {content: \"\";position: absolute;border-left: 1px solid gray;box-sizing: border-box;top: 0;bottom: 0;left: 50%;z-index: 0;}#sk-container-id-2 div.sk-serial {display: flex;flex-direction: column;align-items: center;background-color: white;padding-right: 0.2em;padding-left: 0.2em;position: relative;}#sk-container-id-2 div.sk-item {position: relative;z-index: 1;}#sk-container-id-2 div.sk-parallel {display: flex;align-items: stretch;justify-content: center;background-color: white;position: relative;}#sk-container-id-2 div.sk-item::before, #sk-container-id-2 div.sk-parallel-item::before {content: \"\";position: absolute;border-left: 1px solid gray;box-sizing: border-box;top: 0;bottom: 0;left: 50%;z-index: -1;}#sk-container-id-2 div.sk-parallel-item {display: flex;flex-direction: column;z-index: 1;position: relative;background-color: white;}#sk-container-id-2 div.sk-parallel-item:first-child::after {align-self: flex-end;width: 50%;}#sk-container-id-2 div.sk-parallel-item:last-child::after {align-self: flex-start;width: 50%;}#sk-container-id-2 div.sk-parallel-item:only-child::after {width: 0;}#sk-container-id-2 div.sk-dashed-wrapped {border: 1px dashed gray;margin: 0 0.4em 0.5em 0.4em;box-sizing: border-box;padding-bottom: 0.4em;background-color: white;}#sk-container-id-2 div.sk-label label {font-family: monospace;font-weight: bold;display: inline-block;line-height: 1.2em;}#sk-container-id-2 div.sk-label-container {text-align: center;}#sk-container-id-2 div.sk-container {/* jupyter's `normalize.less` sets `[hidden] { display: none; }` but bootstrap.min.css set `[hidden] { display: none !important; }` so we also need the `!important` here to be able to override the default hidden behavior on the sphinx rendered scikit-learn.org. See: https://github.com/scikit-learn/scikit-learn/issues/21755 */display: inline-block !important;position: relative;}#sk-container-id-2 div.sk-text-repr-fallback {display: none;}</style><div id=\"sk-container-id-2\" class=\"sk-top-container\"><div class=\"sk-text-repr-fallback\"><pre>DecisionTreeClassifier()</pre><b>In a Jupyter environment, please rerun this cell to show the HTML representation or trust the notebook. <br />On GitHub, the HTML representation is unable to render, please try loading this page with nbviewer.org.</b></div><div class=\"sk-container\" hidden><div class=\"sk-item\"><div class=\"sk-estimator sk-toggleable\"><input class=\"sk-toggleable__control sk-hidden--visually\" id=\"sk-estimator-id-2\" type=\"checkbox\" checked><label for=\"sk-estimator-id-2\" class=\"sk-toggleable__label sk-toggleable__label-arrow\">DecisionTreeClassifier</label><div class=\"sk-toggleable__content\"><pre>DecisionTreeClassifier()</pre></div></div></div></div></div>"
      ],
      "text/plain": [
       "DecisionTreeClassifier()"
      ]
     },
     "execution_count": 22,
     "metadata": {},
     "output_type": "execute_result"
    }
   ],
   "source": [
    "dtree=DecisionTreeClassifier()\n",
    "dtree.fit(x_train,y_train)"
   ]
  },
  {
   "cell_type": "code",
   "execution_count": 23,
   "metadata": {
    "colab": {
     "base_uri": "https://localhost:8080/"
    },
    "id": "3OEf5HHeQyC5",
    "outputId": "595752df-6689-44da-eafc-f5fe275e8a23"
   },
   "outputs": [
    {
     "name": "stdout",
     "output_type": "stream",
     "text": [
      "The accuracy of Decision Tree Classifier is:  96.42695612844867\n"
     ]
    }
   ],
   "source": [
    "dtree_predict=dtree.predict(x_test)\n",
    "print('The accuracy of Decision Tree Classifier is: ', 100.0 * accuracy_score(dtree_predict,y_test))"
   ]
  },
  {
   "cell_type": "code",
   "execution_count": 24,
   "metadata": {
    "colab": {
     "base_uri": "https://localhost:8080/"
    },
    "id": "9bw3h033CFZD",
    "outputId": "366deb34-8ad9-4f68-f095-7e978c29d6f2"
   },
   "outputs": [
    {
     "name": "stdout",
     "output_type": "stream",
     "text": [
      "              precision    recall  f1-score   support\n",
      "\n",
      "          -1       0.95      0.97      0.96       989\n",
      "           1       0.98      0.96      0.97      1222\n",
      "\n",
      "    accuracy                           0.96      2211\n",
      "   macro avg       0.96      0.97      0.96      2211\n",
      "weighted avg       0.96      0.96      0.96      2211\n",
      "\n"
     ]
    }
   ],
   "source": [
    "print(classification_report(dtree_predict,y_test))"
   ]
  },
  {
   "cell_type": "code",
   "execution_count": 25,
   "metadata": {
    "colab": {
     "base_uri": "https://localhost:8080/",
     "height": 295
    },
    "id": "Bb4PAUIJCNwm",
    "outputId": "b4e4916e-8c93-4ea3-cec5-ba6ac27498bd"
   },
   "outputs": [
    {
     "ename": "NameError",
     "evalue": "name 'plot_confusion_matrix' is not defined",
     "output_type": "error",
     "traceback": [
      "\u001b[1;31m---------------------------------------------------------------------------\u001b[0m",
      "\u001b[1;31mNameError\u001b[0m                                 Traceback (most recent call last)",
      "Cell \u001b[1;32mIn [25], line 1\u001b[0m\n\u001b[1;32m----> 1\u001b[0m \u001b[43mplot_confusion_matrix\u001b[49m(y_test, dtree_predict)\n",
      "\u001b[1;31mNameError\u001b[0m: name 'plot_confusion_matrix' is not defined"
     ]
    }
   ],
   "source": [
    "plot_confusion_matrix(y_test, dtree_predict)"
   ]
  },
  {
   "cell_type": "code",
   "execution_count": null,
   "metadata": {
    "colab": {
     "base_uri": "https://localhost:8080/",
     "height": 351
    },
    "id": "WsRWDSXkCXBE",
    "outputId": "8f550876-8247-4cfb-82d2-3b1938f4e6d4"
   },
   "outputs": [],
   "source": [
    "plot_roc_curve(dtree,x_test, y_test)"
   ]
  },
  {
   "cell_type": "code",
   "execution_count": null,
   "metadata": {
    "id": "uTaD7i-eCiSu"
   },
   "outputs": [],
   "source": [
    "import pickle\n",
    "pickle.dump(dtree,open('Phishing_website.pk1','wb'))"
   ]
  },
  {
   "cell_type": "markdown",
   "metadata": {
    "id": "PYuNbYZOCiwb"
   },
   "source": [
    "# Random Forest Classifier and check its accuracy"
   ]
  },
  {
   "cell_type": "code",
   "execution_count": 26,
   "metadata": {
    "id": "VAMLsJOVCi0X"
   },
   "outputs": [],
   "source": [
    "from sklearn.ensemble import RandomForestClassifier"
   ]
  },
  {
   "cell_type": "code",
   "execution_count": 27,
   "metadata": {
    "colab": {
     "base_uri": "https://localhost:8080/"
    },
    "id": "qMVrPDulCi36",
    "outputId": "ef1ad934-0e6c-41c3-99cf-a24827c96362"
   },
   "outputs": [
    {
     "data": {
      "text/html": [
       "<style>#sk-container-id-3 {color: black;background-color: white;}#sk-container-id-3 pre{padding: 0;}#sk-container-id-3 div.sk-toggleable {background-color: white;}#sk-container-id-3 label.sk-toggleable__label {cursor: pointer;display: block;width: 100%;margin-bottom: 0;padding: 0.3em;box-sizing: border-box;text-align: center;}#sk-container-id-3 label.sk-toggleable__label-arrow:before {content: \"▸\";float: left;margin-right: 0.25em;color: #696969;}#sk-container-id-3 label.sk-toggleable__label-arrow:hover:before {color: black;}#sk-container-id-3 div.sk-estimator:hover label.sk-toggleable__label-arrow:before {color: black;}#sk-container-id-3 div.sk-toggleable__content {max-height: 0;max-width: 0;overflow: hidden;text-align: left;background-color: #f0f8ff;}#sk-container-id-3 div.sk-toggleable__content pre {margin: 0.2em;color: black;border-radius: 0.25em;background-color: #f0f8ff;}#sk-container-id-3 input.sk-toggleable__control:checked~div.sk-toggleable__content {max-height: 200px;max-width: 100%;overflow: auto;}#sk-container-id-3 input.sk-toggleable__control:checked~label.sk-toggleable__label-arrow:before {content: \"▾\";}#sk-container-id-3 div.sk-estimator input.sk-toggleable__control:checked~label.sk-toggleable__label {background-color: #d4ebff;}#sk-container-id-3 div.sk-label input.sk-toggleable__control:checked~label.sk-toggleable__label {background-color: #d4ebff;}#sk-container-id-3 input.sk-hidden--visually {border: 0;clip: rect(1px 1px 1px 1px);clip: rect(1px, 1px, 1px, 1px);height: 1px;margin: -1px;overflow: hidden;padding: 0;position: absolute;width: 1px;}#sk-container-id-3 div.sk-estimator {font-family: monospace;background-color: #f0f8ff;border: 1px dotted black;border-radius: 0.25em;box-sizing: border-box;margin-bottom: 0.5em;}#sk-container-id-3 div.sk-estimator:hover {background-color: #d4ebff;}#sk-container-id-3 div.sk-parallel-item::after {content: \"\";width: 100%;border-bottom: 1px solid gray;flex-grow: 1;}#sk-container-id-3 div.sk-label:hover label.sk-toggleable__label {background-color: #d4ebff;}#sk-container-id-3 div.sk-serial::before {content: \"\";position: absolute;border-left: 1px solid gray;box-sizing: border-box;top: 0;bottom: 0;left: 50%;z-index: 0;}#sk-container-id-3 div.sk-serial {display: flex;flex-direction: column;align-items: center;background-color: white;padding-right: 0.2em;padding-left: 0.2em;position: relative;}#sk-container-id-3 div.sk-item {position: relative;z-index: 1;}#sk-container-id-3 div.sk-parallel {display: flex;align-items: stretch;justify-content: center;background-color: white;position: relative;}#sk-container-id-3 div.sk-item::before, #sk-container-id-3 div.sk-parallel-item::before {content: \"\";position: absolute;border-left: 1px solid gray;box-sizing: border-box;top: 0;bottom: 0;left: 50%;z-index: -1;}#sk-container-id-3 div.sk-parallel-item {display: flex;flex-direction: column;z-index: 1;position: relative;background-color: white;}#sk-container-id-3 div.sk-parallel-item:first-child::after {align-self: flex-end;width: 50%;}#sk-container-id-3 div.sk-parallel-item:last-child::after {align-self: flex-start;width: 50%;}#sk-container-id-3 div.sk-parallel-item:only-child::after {width: 0;}#sk-container-id-3 div.sk-dashed-wrapped {border: 1px dashed gray;margin: 0 0.4em 0.5em 0.4em;box-sizing: border-box;padding-bottom: 0.4em;background-color: white;}#sk-container-id-3 div.sk-label label {font-family: monospace;font-weight: bold;display: inline-block;line-height: 1.2em;}#sk-container-id-3 div.sk-label-container {text-align: center;}#sk-container-id-3 div.sk-container {/* jupyter's `normalize.less` sets `[hidden] { display: none; }` but bootstrap.min.css set `[hidden] { display: none !important; }` so we also need the `!important` here to be able to override the default hidden behavior on the sphinx rendered scikit-learn.org. See: https://github.com/scikit-learn/scikit-learn/issues/21755 */display: inline-block !important;position: relative;}#sk-container-id-3 div.sk-text-repr-fallback {display: none;}</style><div id=\"sk-container-id-3\" class=\"sk-top-container\"><div class=\"sk-text-repr-fallback\"><pre>RandomForestClassifier()</pre><b>In a Jupyter environment, please rerun this cell to show the HTML representation or trust the notebook. <br />On GitHub, the HTML representation is unable to render, please try loading this page with nbviewer.org.</b></div><div class=\"sk-container\" hidden><div class=\"sk-item\"><div class=\"sk-estimator sk-toggleable\"><input class=\"sk-toggleable__control sk-hidden--visually\" id=\"sk-estimator-id-3\" type=\"checkbox\" checked><label for=\"sk-estimator-id-3\" class=\"sk-toggleable__label sk-toggleable__label-arrow\">RandomForestClassifier</label><div class=\"sk-toggleable__content\"><pre>RandomForestClassifier()</pre></div></div></div></div></div>"
      ],
      "text/plain": [
       "RandomForestClassifier()"
      ]
     },
     "execution_count": 27,
     "metadata": {},
     "output_type": "execute_result"
    }
   ],
   "source": [
    "rfc=RandomForestClassifier()\n",
    "rfc.fit(x_train,y_train)"
   ]
  },
  {
   "cell_type": "code",
   "execution_count": 28,
   "metadata": {
    "colab": {
     "base_uri": "https://localhost:8080/"
    },
    "id": "5IYUFC45Ci8V",
    "outputId": "2cbbf58b-8b9c-4dbf-f1fd-da7fb3e82030"
   },
   "outputs": [
    {
     "name": "stdout",
     "output_type": "stream",
     "text": [
      "The accuracy of Random Forest Classifier is:  96.92446856625962\n"
     ]
    }
   ],
   "source": [
    "rfc_predict=rfc.predict(x_test)\n",
    "print('The accuracy of Random Forest Classifier is: ' , 100.0 * accuracy_score(rfc_predict,y_test))"
   ]
  },
  {
   "cell_type": "code",
   "execution_count": 29,
   "metadata": {
    "colab": {
     "base_uri": "https://localhost:8080/"
    },
    "id": "-rti0dg-EfMW",
    "outputId": "0e5ebb6b-daa7-4efc-f25b-8e4a04d8d2fd"
   },
   "outputs": [
    {
     "name": "stdout",
     "output_type": "stream",
     "text": [
      "              precision    recall  f1-score   support\n",
      "\n",
      "          -1       0.95      0.98      0.97       978\n",
      "           1       0.99      0.96      0.97      1233\n",
      "\n",
      "    accuracy                           0.97      2211\n",
      "   macro avg       0.97      0.97      0.97      2211\n",
      "weighted avg       0.97      0.97      0.97      2211\n",
      "\n"
     ]
    }
   ],
   "source": [
    "print(classification_report(rfc_predict,y_test))"
   ]
  },
  {
   "cell_type": "code",
   "execution_count": 30,
   "metadata": {
    "colab": {
     "base_uri": "https://localhost:8080/",
     "height": 295
    },
    "id": "XDVhDl5EEfdt",
    "outputId": "a871079f-bb92-4c39-8429-a3327a8428cc"
   },
   "outputs": [
    {
     "ename": "NameError",
     "evalue": "name 'plot_confusion_matrix' is not defined",
     "output_type": "error",
     "traceback": [
      "\u001b[1;31m---------------------------------------------------------------------------\u001b[0m",
      "\u001b[1;31mNameError\u001b[0m                                 Traceback (most recent call last)",
      "Cell \u001b[1;32mIn [30], line 1\u001b[0m\n\u001b[1;32m----> 1\u001b[0m \u001b[43mplot_confusion_matrix\u001b[49m(y_test, rfc_predict)\n",
      "\u001b[1;31mNameError\u001b[0m: name 'plot_confusion_matrix' is not defined"
     ]
    }
   ],
   "source": [
    "plot_confusion_matrix(y_test, rfc_predict)"
   ]
  },
  {
   "cell_type": "code",
   "execution_count": null,
   "metadata": {
    "colab": {
     "base_uri": "https://localhost:8080/",
     "height": 351
    },
    "id": "6sfiEHSuEzAN",
    "outputId": "cc4492ac-bb84-4087-a142-ab3f0438d722"
   },
   "outputs": [],
   "source": [
    "plot_roc_curve(rfc,x_test, y_test)"
   ]
  },
  {
   "cell_type": "code",
   "execution_count": null,
   "metadata": {
    "id": "kWQWvHBwFDsH"
   },
   "outputs": [],
   "source": [
    "import pickle\n",
    "pickle.dump(rfc,open('Phishing_website.pk1','wb'))"
   ]
  },
  {
   "cell_type": "markdown",
   "metadata": {
    "id": "fPIW8pzKFg4Y"
   },
   "source": [
    "#SVM and check its accuracy"
   ]
  },
  {
   "cell_type": "code",
   "execution_count": null,
   "metadata": {
    "id": "ByazfiLSFpIB"
   },
   "outputs": [],
   "source": [
    "from sklearn.svm import SVC"
   ]
  },
  {
   "cell_type": "code",
   "execution_count": null,
   "metadata": {
    "colab": {
     "base_uri": "https://localhost:8080/"
    },
    "id": "EmF5_y4aFtP0",
    "outputId": "62eacacd-87a8-4eb2-8fdd-93f6db283905"
   },
   "outputs": [],
   "source": [
    "svc=SVC()\n",
    "svc.fit(x_train,y_train)"
   ]
  },
  {
   "cell_type": "code",
   "execution_count": null,
   "metadata": {
    "colab": {
     "base_uri": "https://localhost:8080/"
    },
    "id": "NiSlLuxoF418",
    "outputId": "ecd13c96-8b3d-4451-b46a-fda7a8252b97"
   },
   "outputs": [],
   "source": [
    "svm_predict=svc.predict(x_test)\n",
    "print('The accuracy of SVM Classifier is: ', 100.0 * accuracy_score(svm_predict,y_test))"
   ]
  },
  {
   "cell_type": "code",
   "execution_count": null,
   "metadata": {
    "colab": {
     "base_uri": "https://localhost:8080/"
    },
    "id": "c7rpvkSKGG67",
    "outputId": "e0f70811-0658-4593-f975-61852e7c3024"
   },
   "outputs": [],
   "source": [
    "print(classification_report(svm_predict,y_test))"
   ]
  },
  {
   "cell_type": "code",
   "execution_count": null,
   "metadata": {
    "colab": {
     "base_uri": "https://localhost:8080/",
     "height": 295
    },
    "id": "x1pQbY7CGHSZ",
    "outputId": "71fb1e69-e2cf-4110-fe96-c57c89bc52dd"
   },
   "outputs": [],
   "source": [
    "plot_confusion_matrix(y_test, svm_predict)"
   ]
  },
  {
   "cell_type": "code",
   "execution_count": 31,
   "metadata": {
    "colab": {
     "base_uri": "https://localhost:8080/",
     "height": 351
    },
    "id": "-kWZvmG6GhQA",
    "outputId": "725502a6-783d-44cd-918b-b5871edf808c"
   },
   "outputs": [
    {
     "ename": "NameError",
     "evalue": "name 'svc' is not defined",
     "output_type": "error",
     "traceback": [
      "\u001b[1;31m---------------------------------------------------------------------------\u001b[0m",
      "\u001b[1;31mNameError\u001b[0m                                 Traceback (most recent call last)",
      "Cell \u001b[1;32mIn [31], line 1\u001b[0m\n\u001b[1;32m----> 1\u001b[0m plot_roc_curve(\u001b[43msvc\u001b[49m,x_test, y_test)\n",
      "\u001b[1;31mNameError\u001b[0m: name 'svc' is not defined"
     ]
    }
   ],
   "source": [
    "plot_roc_curve(svc,x_test, y_test)"
   ]
  },
  {
   "cell_type": "code",
   "execution_count": 32,
   "metadata": {
    "id": "8ZN6DA7zGv-N"
   },
   "outputs": [
    {
     "ename": "NameError",
     "evalue": "name 'svc' is not defined",
     "output_type": "error",
     "traceback": [
      "\u001b[1;31m---------------------------------------------------------------------------\u001b[0m",
      "\u001b[1;31mNameError\u001b[0m                                 Traceback (most recent call last)",
      "Cell \u001b[1;32mIn [32], line 2\u001b[0m\n\u001b[0;32m      1\u001b[0m \u001b[38;5;28;01mimport\u001b[39;00m \u001b[38;5;21;01mpickle\u001b[39;00m\n\u001b[1;32m----> 2\u001b[0m pickle\u001b[38;5;241m.\u001b[39mdump(\u001b[43msvc\u001b[49m,\u001b[38;5;28mopen\u001b[39m(\u001b[38;5;124m'\u001b[39m\u001b[38;5;124mPhishing_website.pk1\u001b[39m\u001b[38;5;124m'\u001b[39m,\u001b[38;5;124m'\u001b[39m\u001b[38;5;124mwb\u001b[39m\u001b[38;5;124m'\u001b[39m))\n",
      "\u001b[1;31mNameError\u001b[0m: name 'svc' is not defined"
     ]
    }
   ],
   "source": [
    "import pickle\n",
    "pickle.dump(svc,open('Phishing_website.pk1','wb'))"
   ]
  },
  {
   "cell_type": "markdown",
   "metadata": {
    "id": "n-LLyzBIIAoE"
   },
   "source": [
    "#K-Nearest Neighbors Classifier and check its accuracy"
   ]
  },
  {
   "cell_type": "code",
   "execution_count": 33,
   "metadata": {
    "id": "l22tGjfIIKqw"
   },
   "outputs": [],
   "source": [
    "from sklearn.neighbors import KNeighborsClassifier"
   ]
  },
  {
   "cell_type": "code",
   "execution_count": 34,
   "metadata": {
    "id": "GaneEVTVIQqu"
   },
   "outputs": [],
   "source": [
    "#Model Training\n",
    "#KNN Classifier for K = 1"
   ]
  },
  {
   "cell_type": "code",
   "execution_count": 35,
   "metadata": {
    "colab": {
     "base_uri": "https://localhost:8080/"
    },
    "id": "bff3ESksIbXV",
    "outputId": "66171263-d564-4d49-df61-69d98f239ef9"
   },
   "outputs": [
    {
     "data": {
      "text/html": [
       "<style>#sk-container-id-4 {color: black;background-color: white;}#sk-container-id-4 pre{padding: 0;}#sk-container-id-4 div.sk-toggleable {background-color: white;}#sk-container-id-4 label.sk-toggleable__label {cursor: pointer;display: block;width: 100%;margin-bottom: 0;padding: 0.3em;box-sizing: border-box;text-align: center;}#sk-container-id-4 label.sk-toggleable__label-arrow:before {content: \"▸\";float: left;margin-right: 0.25em;color: #696969;}#sk-container-id-4 label.sk-toggleable__label-arrow:hover:before {color: black;}#sk-container-id-4 div.sk-estimator:hover label.sk-toggleable__label-arrow:before {color: black;}#sk-container-id-4 div.sk-toggleable__content {max-height: 0;max-width: 0;overflow: hidden;text-align: left;background-color: #f0f8ff;}#sk-container-id-4 div.sk-toggleable__content pre {margin: 0.2em;color: black;border-radius: 0.25em;background-color: #f0f8ff;}#sk-container-id-4 input.sk-toggleable__control:checked~div.sk-toggleable__content {max-height: 200px;max-width: 100%;overflow: auto;}#sk-container-id-4 input.sk-toggleable__control:checked~label.sk-toggleable__label-arrow:before {content: \"▾\";}#sk-container-id-4 div.sk-estimator input.sk-toggleable__control:checked~label.sk-toggleable__label {background-color: #d4ebff;}#sk-container-id-4 div.sk-label input.sk-toggleable__control:checked~label.sk-toggleable__label {background-color: #d4ebff;}#sk-container-id-4 input.sk-hidden--visually {border: 0;clip: rect(1px 1px 1px 1px);clip: rect(1px, 1px, 1px, 1px);height: 1px;margin: -1px;overflow: hidden;padding: 0;position: absolute;width: 1px;}#sk-container-id-4 div.sk-estimator {font-family: monospace;background-color: #f0f8ff;border: 1px dotted black;border-radius: 0.25em;box-sizing: border-box;margin-bottom: 0.5em;}#sk-container-id-4 div.sk-estimator:hover {background-color: #d4ebff;}#sk-container-id-4 div.sk-parallel-item::after {content: \"\";width: 100%;border-bottom: 1px solid gray;flex-grow: 1;}#sk-container-id-4 div.sk-label:hover label.sk-toggleable__label {background-color: #d4ebff;}#sk-container-id-4 div.sk-serial::before {content: \"\";position: absolute;border-left: 1px solid gray;box-sizing: border-box;top: 0;bottom: 0;left: 50%;z-index: 0;}#sk-container-id-4 div.sk-serial {display: flex;flex-direction: column;align-items: center;background-color: white;padding-right: 0.2em;padding-left: 0.2em;position: relative;}#sk-container-id-4 div.sk-item {position: relative;z-index: 1;}#sk-container-id-4 div.sk-parallel {display: flex;align-items: stretch;justify-content: center;background-color: white;position: relative;}#sk-container-id-4 div.sk-item::before, #sk-container-id-4 div.sk-parallel-item::before {content: \"\";position: absolute;border-left: 1px solid gray;box-sizing: border-box;top: 0;bottom: 0;left: 50%;z-index: -1;}#sk-container-id-4 div.sk-parallel-item {display: flex;flex-direction: column;z-index: 1;position: relative;background-color: white;}#sk-container-id-4 div.sk-parallel-item:first-child::after {align-self: flex-end;width: 50%;}#sk-container-id-4 div.sk-parallel-item:last-child::after {align-self: flex-start;width: 50%;}#sk-container-id-4 div.sk-parallel-item:only-child::after {width: 0;}#sk-container-id-4 div.sk-dashed-wrapped {border: 1px dashed gray;margin: 0 0.4em 0.5em 0.4em;box-sizing: border-box;padding-bottom: 0.4em;background-color: white;}#sk-container-id-4 div.sk-label label {font-family: monospace;font-weight: bold;display: inline-block;line-height: 1.2em;}#sk-container-id-4 div.sk-label-container {text-align: center;}#sk-container-id-4 div.sk-container {/* jupyter's `normalize.less` sets `[hidden] { display: none; }` but bootstrap.min.css set `[hidden] { display: none !important; }` so we also need the `!important` here to be able to override the default hidden behavior on the sphinx rendered scikit-learn.org. See: https://github.com/scikit-learn/scikit-learn/issues/21755 */display: inline-block !important;position: relative;}#sk-container-id-4 div.sk-text-repr-fallback {display: none;}</style><div id=\"sk-container-id-4\" class=\"sk-top-container\"><div class=\"sk-text-repr-fallback\"><pre>KNeighborsClassifier(n_neighbors=1)</pre><b>In a Jupyter environment, please rerun this cell to show the HTML representation or trust the notebook. <br />On GitHub, the HTML representation is unable to render, please try loading this page with nbviewer.org.</b></div><div class=\"sk-container\" hidden><div class=\"sk-item\"><div class=\"sk-estimator sk-toggleable\"><input class=\"sk-toggleable__control sk-hidden--visually\" id=\"sk-estimator-id-4\" type=\"checkbox\" checked><label for=\"sk-estimator-id-4\" class=\"sk-toggleable__label sk-toggleable__label-arrow\">KNeighborsClassifier</label><div class=\"sk-toggleable__content\"><pre>KNeighborsClassifier(n_neighbors=1)</pre></div></div></div></div></div>"
      ],
      "text/plain": [
       "KNeighborsClassifier(n_neighbors=1)"
      ]
     },
     "execution_count": 35,
     "metadata": {},
     "output_type": "execute_result"
    }
   ],
   "source": [
    "knn=KNeighborsClassifier(n_neighbors=1)\n",
    "knn.fit(x_train,y_train)"
   ]
  },
  {
   "cell_type": "code",
   "execution_count": 36,
   "metadata": {
    "colab": {
     "base_uri": "https://localhost:8080/"
    },
    "id": "ZAIxUYZnIbsE",
    "outputId": "ad382a90-42f5-49c0-fc8e-1138902e64cd"
   },
   "outputs": [
    {
     "name": "stdout",
     "output_type": "stream",
     "text": [
      "The accuracy of KNN Model is:  96.29127091813659\n"
     ]
    }
   ],
   "source": [
    "knn_predict=knn.predict(x_test)\n",
    "print('The accuracy of KNN Model is: ', 100.0 * accuracy_score(knn_predict,y_test))"
   ]
  },
  {
   "cell_type": "code",
   "execution_count": 37,
   "metadata": {
    "colab": {
     "base_uri": "https://localhost:8080/"
    },
    "id": "L0U6x1B9I2Nq",
    "outputId": "a9594c15-935e-4cb0-c480-431a84a1e27e"
   },
   "outputs": [
    {
     "name": "stdout",
     "output_type": "stream",
     "text": [
      "              precision    recall  f1-score   support\n",
      "\n",
      "          -1       0.97      0.95      0.96      1014\n",
      "           1       0.96      0.98      0.97      1197\n",
      "\n",
      "    accuracy                           0.96      2211\n",
      "   macro avg       0.96      0.96      0.96      2211\n",
      "weighted avg       0.96      0.96      0.96      2211\n",
      "\n"
     ]
    }
   ],
   "source": [
    "print(classification_report(y_test,knn_predict))"
   ]
  },
  {
   "cell_type": "code",
   "execution_count": 38,
   "metadata": {
    "colab": {
     "base_uri": "https://localhost:8080/",
     "height": 295
    },
    "id": "GRLxczY8I-fC",
    "outputId": "4282cb9e-5ced-4774-f781-0a7fa80eab1e"
   },
   "outputs": [
    {
     "ename": "NameError",
     "evalue": "name 'plot_confusion_matrix' is not defined",
     "output_type": "error",
     "traceback": [
      "\u001b[1;31m---------------------------------------------------------------------------\u001b[0m",
      "\u001b[1;31mNameError\u001b[0m                                 Traceback (most recent call last)",
      "Cell \u001b[1;32mIn [38], line 1\u001b[0m\n\u001b[1;32m----> 1\u001b[0m \u001b[43mplot_confusion_matrix\u001b[49m(y_test, knn_predict)\n",
      "\u001b[1;31mNameError\u001b[0m: name 'plot_confusion_matrix' is not defined"
     ]
    }
   ],
   "source": [
    "plot_confusion_matrix(y_test, knn_predict)"
   ]
  },
  {
   "cell_type": "code",
   "execution_count": null,
   "metadata": {
    "colab": {
     "base_uri": "https://localhost:8080/",
     "height": 351
    },
    "id": "vBwNtKAsJGWd",
    "outputId": "c1aa5a09-b1b1-46cb-98e9-f0bc74a06d74"
   },
   "outputs": [],
   "source": [
    "plot_roc_curve(knn,x_test, y_test)"
   ]
  },
  {
   "cell_type": "code",
   "execution_count": null,
   "metadata": {
    "id": "4A3HjN6FJR7Y"
   },
   "outputs": [],
   "source": [
    "import pickle\n",
    "pickle.dump(knn,open('Phishing_website.pk1','wb'))"
   ]
  },
  {
   "cell_type": "code",
   "execution_count": null,
   "metadata": {
    "colab": {
     "base_uri": "https://localhost:8080/"
    },
    "id": "nuklRpMuJXKr",
    "outputId": "af36cf5d-3852-4637-e1f1-37e639c8cfcb"
   },
   "outputs": [],
   "source": [
    "print('Logistic Regression Accuracy:',100 * accuracy_score(lr_predict,y_test))\n",
    "print('K-Nearest Neighbour Accuracy:',100* accuracy_score(knn_predict,y_test))\n",
    "print('Decision Tree Classifier Accuracy:',100* accuracy_score(dtree_predict,y_test))\n",
    "print('Random Forest Classifier Accuracy:',100*accuracy_score(rfc_predict,y_test))\n",
    "print('support Vector Machine Accuracy:',100*accuracy_score(svm_predict,y_test))"
   ]
  },
  {
   "cell_type": "markdown",
   "metadata": {
    "id": "3InaPZhZMTJt"
   },
   "source": [
    "#From all the models we developed , Random Forest accuracy has highest accuracy .Lowest accuracy model is support Vector Machine"
   ]
  },
  {
   "cell_type": "code",
   "execution_count": null,
   "metadata": {
    "colab": {
     "base_uri": "https://localhost:8080/",
     "height": 312
    },
    "id": "w4hZXSOOMjB4",
    "outputId": "8f842df3-64f9-4876-f58a-dca61d8a9a2f"
   },
   "outputs": [],
   "source": [
    "objects = ('Logistic Regression', 'KNN Classifier', 'support Vector Machine ','Decision Tree Classifier', 'Random Forest Classifier')\n",
    "y_pos = np.arange(len(objects))\n",
    "performance = [91.67797376752601, 96.29127091813659,94.07507914970601 , 96.24604251469923,96.87924016282226]\n",
    "plt.barh(y_pos, performance, align='center', alpha=1.0)\n",
    "plt.yticks(y_pos, objects)\n",
    "plt.xlabel('Accuracy')\n",
    "plt.xlabel('Model')\n",
    "plt.title('Accuracy per Model')\n",
    "plt.show()\n",
    "plt.savefig('accuracy_per_model.png')"
   ]
  },
  {
   "cell_type": "code",
   "execution_count": null,
   "metadata": {
    "id": "g9uGJRARM20e"
   },
   "outputs": [],
   "source": [
    "import pickle\n",
    "pickle.dump(svc,open('Phishing_website.pk1','wb'))"
   ]
  },
  {
   "cell_type": "code",
   "execution_count": null,
   "metadata": {},
   "outputs": [],
   "source": []
  },
  {
   "cell_type": "code",
   "execution_count": null,
   "metadata": {},
   "outputs": [],
   "source": []
  },
  {
   "cell_type": "code",
   "execution_count": null,
   "metadata": {},
   "outputs": [],
   "source": []
  },
  {
   "cell_type": "code",
   "execution_count": null,
   "metadata": {},
   "outputs": [],
   "source": []
  }
 ],
 "metadata": {
  "colab": {
   "provenance": []
  },
  "kernelspec": {
   "display_name": "Python 3 (ipykernel)",
   "language": "python",
   "name": "python3"
  },
  "language_info": {
   "codemirror_mode": {
    "name": "ipython",
    "version": 3
   },
   "file_extension": ".py",
   "mimetype": "text/x-python",
   "name": "python",
   "nbconvert_exporter": "python",
   "pygments_lexer": "ipython3",
   "version": "3.11.0"
  }
 },
 "nbformat": 4,
 "nbformat_minor": 1
}
